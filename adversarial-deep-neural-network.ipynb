{
 "cells": [
  {
   "cell_type": "markdown",
   "id": "68238618",
   "metadata": {
    "papermill": {
     "duration": 0.005566,
     "end_time": "2023-10-06T05:08:12.550697",
     "exception": false,
     "start_time": "2023-10-06T05:08:12.545131",
     "status": "completed"
    },
    "tags": []
   },
   "source": [
    "# Import Library & Dataset"
   ]
  },
  {
   "cell_type": "code",
   "execution_count": 1,
   "id": "b263e9bb",
   "metadata": {
    "execution": {
     "iopub.execute_input": "2023-10-06T05:08:12.563256Z",
     "iopub.status.busy": "2023-10-06T05:08:12.562539Z",
     "iopub.status.idle": "2023-10-06T05:08:14.316086Z",
     "shell.execute_reply": "2023-10-06T05:08:14.314943Z"
    },
    "papermill": {
     "duration": 1.763045,
     "end_time": "2023-10-06T05:08:14.318951",
     "exception": false,
     "start_time": "2023-10-06T05:08:12.555906",
     "status": "completed"
    },
    "tags": []
   },
   "outputs": [],
   "source": [
    "import numpy as np\n",
    "import pandas as pd\n",
    "import matplotlib.pyplot as plt\n",
    "import seaborn as sns"
   ]
  },
  {
   "cell_type": "code",
   "execution_count": 2,
   "id": "11e75683",
   "metadata": {
    "execution": {
     "iopub.execute_input": "2023-10-06T05:08:14.331462Z",
     "iopub.status.busy": "2023-10-06T05:08:14.330997Z",
     "iopub.status.idle": "2023-10-06T05:08:23.171192Z",
     "shell.execute_reply": "2023-10-06T05:08:23.170299Z"
    },
    "papermill": {
     "duration": 8.849167,
     "end_time": "2023-10-06T05:08:23.173471",
     "exception": false,
     "start_time": "2023-10-06T05:08:14.324304",
     "status": "completed"
    },
    "tags": []
   },
   "outputs": [],
   "source": [
    "from tensorflow.keras.datasets import mnist"
   ]
  },
  {
   "cell_type": "code",
   "execution_count": 3,
   "id": "1069e021",
   "metadata": {
    "execution": {
     "iopub.execute_input": "2023-10-06T05:08:23.186074Z",
     "iopub.status.busy": "2023-10-06T05:08:23.185405Z",
     "iopub.status.idle": "2023-10-06T05:08:25.603564Z",
     "shell.execute_reply": "2023-10-06T05:08:25.602708Z"
    },
    "papermill": {
     "duration": 2.427333,
     "end_time": "2023-10-06T05:08:25.605983",
     "exception": false,
     "start_time": "2023-10-06T05:08:23.178650",
     "status": "completed"
    },
    "tags": []
   },
   "outputs": [
    {
     "name": "stdout",
     "output_type": "stream",
     "text": [
      "Downloading data from https://storage.googleapis.com/tensorflow/tf-keras-datasets/mnist.npz\n",
      "11490434/11490434 [==============================] - 1s 0us/step\n"
     ]
    }
   ],
   "source": [
    "(X_train,y_train),(X_test,y_test) = mnist.load_data()"
   ]
  },
  {
   "cell_type": "code",
   "execution_count": 4,
   "id": "b0f06c14",
   "metadata": {
    "execution": {
     "iopub.execute_input": "2023-10-06T05:08:25.620629Z",
     "iopub.status.busy": "2023-10-06T05:08:25.620265Z",
     "iopub.status.idle": "2023-10-06T05:08:25.629982Z",
     "shell.execute_reply": "2023-10-06T05:08:25.629199Z"
    },
    "papermill": {
     "duration": 0.019515,
     "end_time": "2023-10-06T05:08:25.632176",
     "exception": false,
     "start_time": "2023-10-06T05:08:25.612661",
     "status": "completed"
    },
    "tags": []
   },
   "outputs": [],
   "source": [
    "only_zeros=X_train[y_train==0]"
   ]
  },
  {
   "cell_type": "code",
   "execution_count": 5,
   "id": "357ed2d1",
   "metadata": {
    "execution": {
     "iopub.execute_input": "2023-10-06T05:08:25.646494Z",
     "iopub.status.busy": "2023-10-06T05:08:25.646142Z",
     "iopub.status.idle": "2023-10-06T05:08:25.652759Z",
     "shell.execute_reply": "2023-10-06T05:08:25.651650Z"
    },
    "papermill": {
     "duration": 0.016201,
     "end_time": "2023-10-06T05:08:25.654780",
     "exception": false,
     "start_time": "2023-10-06T05:08:25.638579",
     "status": "completed"
    },
    "tags": []
   },
   "outputs": [
    {
     "data": {
      "text/plain": [
       "(5923, 28, 28)"
      ]
     },
     "execution_count": 5,
     "metadata": {},
     "output_type": "execute_result"
    }
   ],
   "source": [
    "only_zeros.shape"
   ]
  },
  {
   "cell_type": "code",
   "execution_count": 6,
   "id": "556a9e0c",
   "metadata": {
    "execution": {
     "iopub.execute_input": "2023-10-06T05:08:25.669237Z",
     "iopub.status.busy": "2023-10-06T05:08:25.668884Z",
     "iopub.status.idle": "2023-10-06T05:08:25.943662Z",
     "shell.execute_reply": "2023-10-06T05:08:25.942518Z"
    },
    "papermill": {
     "duration": 0.285077,
     "end_time": "2023-10-06T05:08:25.946160",
     "exception": false,
     "start_time": "2023-10-06T05:08:25.661083",
     "status": "completed"
    },
    "tags": []
   },
   "outputs": [
    {
     "data": {
      "text/plain": [
       "<matplotlib.image.AxesImage at 0x7de707711db0>"
      ]
     },
     "execution_count": 6,
     "metadata": {},
     "output_type": "execute_result"
    },
    {
     "data": {
      "image/png": "[encoded data removed]",
      "text/plain": [
       "<Figure size 640x480 with 1 Axes>"
      ]
     },
     "metadata": {},
     "output_type": "display_data"
    }
   ],
   "source": [
    "plt.imshow(only_zeros[10])"
   ]
  },
  {
   "cell_type": "code",
   "execution_count": 7,
   "id": "531dc1be",
   "metadata": {
    "execution": {
     "iopub.execute_input": "2023-10-06T05:08:25.961163Z",
     "iopub.status.busy": "2023-10-06T05:08:25.960839Z",
     "iopub.status.idle": "2023-10-06T05:08:25.966872Z",
     "shell.execute_reply": "2023-10-06T05:08:25.965836Z"
    },
    "papermill": {
     "duration": 0.015927,
     "end_time": "2023-10-06T05:08:25.968768",
     "exception": false,
     "start_time": "2023-10-06T05:08:25.952841",
     "status": "completed"
    },
    "tags": []
   },
   "outputs": [],
   "source": [
    "import tensorflow as tf\n",
    "from tensorflow.keras.layers import Dense, Reshape, Flatten\n",
    "from tensorflow.keras.models import Sequential"
   ]
  },
  {
   "cell_type": "markdown",
   "id": "afb361bb",
   "metadata": {
    "papermill": {
     "duration": 0.006337,
     "end_time": "2023-10-06T05:08:25.981911",
     "exception": false,
     "start_time": "2023-10-06T05:08:25.975574",
     "status": "completed"
    },
    "tags": []
   },
   "source": [
    "# Generator"
   ]
  },
  {
   "cell_type": "code",
   "execution_count": 8,
   "id": "7b2b85a2",
   "metadata": {
    "execution": {
     "iopub.execute_input": "2023-10-06T05:08:25.996937Z",
     "iopub.status.busy": "2023-10-06T05:08:25.996597Z",
     "iopub.status.idle": "2023-10-06T05:08:26.185516Z",
     "shell.execute_reply": "2023-10-06T05:08:26.184702Z"
    },
    "papermill": {
     "duration": 0.199239,
     "end_time": "2023-10-06T05:08:26.187826",
     "exception": false,
     "start_time": "2023-10-06T05:08:25.988587",
     "status": "completed"
    },
    "tags": []
   },
   "outputs": [],
   "source": [
    "codings_size=100\n",
    "\n",
    "generator=Sequential()\n",
    "generator.add(Dense(100,activation='relu',input_shape=[codings_size]))\n",
    "generator.add(Dense(150,activation='relu'))\n",
    "generator.add(Dense(784,activation='relu'))\n",
    "generator.add(Reshape([28,28]))"
   ]
  },
  {
   "cell_type": "markdown",
   "id": "f201e903",
   "metadata": {
    "papermill": {
     "duration": 0.006539,
     "end_time": "2023-10-06T05:08:26.201299",
     "exception": false,
     "start_time": "2023-10-06T05:08:26.194760",
     "status": "completed"
    },
    "tags": []
   },
   "source": [
    "# Discriminator"
   ]
  },
  {
   "cell_type": "code",
   "execution_count": 9,
   "id": "5a94ec9c",
   "metadata": {
    "execution": {
     "iopub.execute_input": "2023-10-06T05:08:26.218251Z",
     "iopub.status.busy": "2023-10-06T05:08:26.217886Z",
     "iopub.status.idle": "2023-10-06T05:08:26.280330Z",
     "shell.execute_reply": "2023-10-06T05:08:26.279536Z"
    },
    "papermill": {
     "duration": 0.074264,
     "end_time": "2023-10-06T05:08:26.282300",
     "exception": false,
     "start_time": "2023-10-06T05:08:26.208036",
     "status": "completed"
    },
    "tags": []
   },
   "outputs": [],
   "source": [
    "discriminator=Sequential()\n",
    "discriminator.add(Flatten(input_shape=[28,28]))\n",
    "discriminator.add(Dense(150,activation='relu'))\n",
    "discriminator.add(Dense(100,activation='relu'))\n",
    "discriminator.add(Dense(1,activation='sigmoid'))\n",
    "\n",
    "discriminator.compile(loss='binary_crossentropy',optimizer='adam')"
   ]
  },
  {
   "cell_type": "markdown",
   "id": "b8ea1853",
   "metadata": {
    "papermill": {
     "duration": 0.006312,
     "end_time": "2023-10-06T05:08:26.295473",
     "exception": false,
     "start_time": "2023-10-06T05:08:26.289161",
     "status": "completed"
    },
    "tags": []
   },
   "source": [
    "# Model Processing"
   ]
  },
  {
   "cell_type": "code",
   "execution_count": 10,
   "id": "35b41410",
   "metadata": {
    "execution": {
     "iopub.execute_input": "2023-10-06T05:08:26.310524Z",
     "iopub.status.busy": "2023-10-06T05:08:26.310094Z",
     "iopub.status.idle": "2023-10-06T05:08:26.355718Z",
     "shell.execute_reply": "2023-10-06T05:08:26.354854Z"
    },
    "papermill": {
     "duration": 0.056094,
     "end_time": "2023-10-06T05:08:26.358077",
     "exception": false,
     "start_time": "2023-10-06T05:08:26.301983",
     "status": "completed"
    },
    "tags": []
   },
   "outputs": [],
   "source": [
    "GAN=Sequential([generator,discriminator])"
   ]
  },
  {
   "cell_type": "code",
   "execution_count": 11,
   "id": "62d275d9",
   "metadata": {
    "execution": {
     "iopub.execute_input": "2023-10-06T05:08:26.373230Z",
     "iopub.status.busy": "2023-10-06T05:08:26.372885Z",
     "iopub.status.idle": "2023-10-06T05:08:26.377406Z",
     "shell.execute_reply": "2023-10-06T05:08:26.376543Z"
    },
    "papermill": {
     "duration": 0.0146,
     "end_time": "2023-10-06T05:08:26.379503",
     "exception": false,
     "start_time": "2023-10-06T05:08:26.364903",
     "status": "completed"
    },
    "tags": []
   },
   "outputs": [],
   "source": [
    "discriminator.trainable=False"
   ]
  },
  {
   "cell_type": "code",
   "execution_count": 12,
   "id": "95e15676",
   "metadata": {
    "execution": {
     "iopub.execute_input": "2023-10-06T05:08:26.394874Z",
     "iopub.status.busy": "2023-10-06T05:08:26.394533Z",
     "iopub.status.idle": "2023-10-06T05:08:26.406665Z",
     "shell.execute_reply": "2023-10-06T05:08:26.405789Z"
    },
    "papermill": {
     "duration": 0.022255,
     "end_time": "2023-10-06T05:08:26.408591",
     "exception": false,
     "start_time": "2023-10-06T05:08:26.386336",
     "status": "completed"
    },
    "tags": []
   },
   "outputs": [],
   "source": [
    "GAN.compile(loss='binary_crossentropy',optimizer='adam')"
   ]
  },
  {
   "cell_type": "code",
   "execution_count": 13,
   "id": "0881e12a",
   "metadata": {
    "execution": {
     "iopub.execute_input": "2023-10-06T05:08:26.423810Z",
     "iopub.status.busy": "2023-10-06T05:08:26.423413Z",
     "iopub.status.idle": "2023-10-06T05:08:26.452167Z",
     "shell.execute_reply": "2023-10-06T05:08:26.451109Z"
    },
    "papermill": {
     "duration": 0.038871,
     "end_time": "2023-10-06T05:08:26.454439",
     "exception": false,
     "start_time": "2023-10-06T05:08:26.415568",
     "status": "completed"
    },
    "tags": []
   },
   "outputs": [],
   "source": [
    "my_data=only_zeros\n",
    "batch_size=32\n",
    "\n",
    "dataset=tf.data.Dataset.from_tensor_slices(my_data).shuffle(buffer_size=1000)\n",
    "\n",
    "dataset=dataset.batch(batch_size,drop_remainder=True).prefetch(1)"
   ]
  },
  {
   "cell_type": "code",
   "execution_count": 14,
   "id": "1121e42e",
   "metadata": {
    "execution": {
     "iopub.execute_input": "2023-10-06T05:08:26.468972Z",
     "iopub.status.busy": "2023-10-06T05:08:26.468634Z",
     "iopub.status.idle": "2023-10-06T05:08:26.488555Z",
     "shell.execute_reply": "2023-10-06T05:08:26.487613Z"
    },
    "papermill": {
     "duration": 0.033308,
     "end_time": "2023-10-06T05:08:26.494372",
     "exception": false,
     "start_time": "2023-10-06T05:08:26.461064",
     "status": "completed"
    },
    "tags": []
   },
   "outputs": [
    {
     "name": "stdout",
     "output_type": "stream",
     "text": [
      "Model: \"sequential\"\n",
      "_________________________________________________________________\n",
      " Layer (type)                Output Shape              Param #   \n",
      "=================================================================\n",
      " dense (Dense)               (None, 100)               10100     \n",
      "                                                                 \n",
      " dense_1 (Dense)             (None, 150)               15150     \n",
      "                                                                 \n",
      " dense_2 (Dense)             (None, 784)               118384    \n",
      "                                                                 \n",
      " reshape (Reshape)           (None, 28, 28)            0         \n",
      "                                                                 \n",
      "=================================================================\n",
      "Total params: 143,634\n",
      "Trainable params: 143,634\n",
      "Non-trainable params: 0\n",
      "_________________________________________________________________\n"
     ]
    }
   ],
   "source": [
    "GAN.layers[0].summary()"
   ]
  },
  {
   "cell_type": "code",
   "execution_count": 15,
   "id": "2af5ba18",
   "metadata": {
    "execution": {
     "iopub.execute_input": "2023-10-06T05:08:26.511015Z",
     "iopub.status.busy": "2023-10-06T05:08:26.510680Z",
     "iopub.status.idle": "2023-10-06T05:08:26.530249Z",
     "shell.execute_reply": "2023-10-06T05:08:26.529111Z"
    },
    "papermill": {
     "duration": 0.03309,
     "end_time": "2023-10-06T05:08:26.535036",
     "exception": false,
     "start_time": "2023-10-06T05:08:26.501946",
     "status": "completed"
    },
    "tags": []
   },
   "outputs": [
    {
     "name": "stdout",
     "output_type": "stream",
     "text": [
      "Model: \"sequential_1\"\n",
      "_________________________________________________________________\n",
      " Layer (type)                Output Shape              Param #   \n",
      "=================================================================\n",
      " flatten (Flatten)           (None, 784)               0         \n",
      "                                                                 \n",
      " dense_3 (Dense)             (None, 150)               117750    \n",
      "                                                                 \n",
      " dense_4 (Dense)             (None, 100)               15100     \n",
      "                                                                 \n",
      " dense_5 (Dense)             (None, 1)                 101       \n",
      "                                                                 \n",
      "=================================================================\n",
      "Total params: 132,951\n",
      "Trainable params: 0\n",
      "Non-trainable params: 132,951\n",
      "_________________________________________________________________\n"
     ]
    }
   ],
   "source": [
    "GAN.layers[1].summary()"
   ]
  },
  {
   "cell_type": "markdown",
   "id": "25b0cb9a",
   "metadata": {
    "papermill": {
     "duration": 0.007859,
     "end_time": "2023-10-06T05:08:26.551250",
     "exception": false,
     "start_time": "2023-10-06T05:08:26.543391",
     "status": "completed"
    },
    "tags": []
   },
   "source": [
    "# Bulding the Model"
   ]
  },
  {
   "cell_type": "code",
   "execution_count": 16,
   "id": "06971cd7",
   "metadata": {
    "execution": {
     "iopub.execute_input": "2023-10-06T05:08:26.569308Z",
     "iopub.status.busy": "2023-10-06T05:08:26.568906Z",
     "iopub.status.idle": "2023-10-06T05:08:32.706216Z",
     "shell.execute_reply": "2023-10-06T05:08:32.705447Z"
    },
    "papermill": {
     "duration": 6.149251,
     "end_time": "2023-10-06T05:08:32.708591",
     "exception": false,
     "start_time": "2023-10-06T05:08:26.559340",
     "status": "completed"
    },
    "tags": []
   },
   "outputs": [
    {
     "name": "stdout",
     "output_type": "stream",
     "text": [
      "Currently on Epoch 1\n",
      "\t Currently on batch number 100 of 185\n"
     ]
    }
   ],
   "source": [
    "epochs=1\n",
    "generator,discriminator=GAN.layers\n",
    "\n",
    "for epoch in range(epochs):\n",
    "    print(f\"Currently on Epoch {epoch+1}\")\n",
    "    i=0\n",
    "    \n",
    "    for X_batch in dataset:\n",
    "        \n",
    "        i=i+1\n",
    "        \n",
    "        if i%100==0:\n",
    "            print(f\"\\t Currently on batch number {i} of {len(my_data)//batch_size}\")\n",
    "        \n",
    "        noise=tf.random.normal(shape=[batch_size,codings_size])\n",
    "        gen_images=generator(noise)\n",
    "        \n",
    "        X_fake_vs_real=tf.concat([gen_images,tf.dtypes.cast(X_batch,tf.float32)],axis=0)\n",
    "        \n",
    "        y1=tf.constant([[0.0]]*batch_size + [[1.0]]*batch_size)\n",
    "        \n",
    "        discriminator.trainable=True\n",
    "        \n",
    "        discriminator.train_on_batch(X_fake_vs_real,y1)\n",
    "        \n",
    "        noise=tf.random.normal(shape=[batch_size,codings_size])\n",
    "        \n",
    "        y2=tf.constant([[1.0]]*batch_size)\n",
    "        \n",
    "        discriminator.trainable=False\n",
    "        \n",
    "        GAN.train_on_batch(noise,y2)"
   ]
  },
  {
   "cell_type": "code",
   "execution_count": 17,
   "id": "60a9a83e",
   "metadata": {
    "execution": {
     "iopub.execute_input": "2023-10-06T05:08:32.728167Z",
     "iopub.status.busy": "2023-10-06T05:08:32.727218Z",
     "iopub.status.idle": "2023-10-06T05:08:32.733328Z",
     "shell.execute_reply": "2023-10-06T05:08:32.732275Z"
    },
    "papermill": {
     "duration": 0.017759,
     "end_time": "2023-10-06T05:08:32.735260",
     "exception": false,
     "start_time": "2023-10-06T05:08:32.717501",
     "status": "completed"
    },
    "tags": []
   },
   "outputs": [],
   "source": [
    "noise=tf.random.normal(shape=[10,codings_size])"
   ]
  },
  {
   "cell_type": "code",
   "execution_count": 18,
   "id": "7e992c6d",
   "metadata": {
    "execution": {
     "iopub.execute_input": "2023-10-06T05:08:32.753804Z",
     "iopub.status.busy": "2023-10-06T05:08:32.753430Z",
     "iopub.status.idle": "2023-10-06T05:08:32.759421Z",
     "shell.execute_reply": "2023-10-06T05:08:32.758630Z"
    },
    "papermill": {
     "duration": 0.017497,
     "end_time": "2023-10-06T05:08:32.761228",
     "exception": false,
     "start_time": "2023-10-06T05:08:32.743731",
     "status": "completed"
    },
    "tags": []
   },
   "outputs": [
    {
     "data": {
      "text/plain": [
       "TensorShape([10, 100])"
      ]
     },
     "execution_count": 18,
     "metadata": {},
     "output_type": "execute_result"
    }
   ],
   "source": [
    "noise.shape"
   ]
  },
  {
   "cell_type": "code",
   "execution_count": 19,
   "id": "cc8df620",
   "metadata": {
    "execution": {
     "iopub.execute_input": "2023-10-06T05:08:32.779652Z",
     "iopub.status.busy": "2023-10-06T05:08:32.779297Z",
     "iopub.status.idle": "2023-10-06T05:08:32.788567Z",
     "shell.execute_reply": "2023-10-06T05:08:32.787749Z"
    },
    "papermill": {
     "duration": 0.020981,
     "end_time": "2023-10-06T05:08:32.790728",
     "exception": false,
     "start_time": "2023-10-06T05:08:32.769747",
     "status": "completed"
    },
    "tags": []
   },
   "outputs": [],
   "source": [
    "images=generator(noise)"
   ]
  },
  {
   "cell_type": "code",
   "execution_count": 20,
   "id": "0bd69a46",
   "metadata": {
    "execution": {
     "iopub.execute_input": "2023-10-06T05:08:32.809061Z",
     "iopub.status.busy": "2023-10-06T05:08:32.808697Z",
     "iopub.status.idle": "2023-10-06T05:08:32.815282Z",
     "shell.execute_reply": "2023-10-06T05:08:32.814132Z"
    },
    "papermill": {
     "duration": 0.018108,
     "end_time": "2023-10-06T05:08:32.817306",
     "exception": false,
     "start_time": "2023-10-06T05:08:32.799198",
     "status": "completed"
    },
    "tags": []
   },
   "outputs": [
    {
     "data": {
      "text/plain": [
       "TensorShape([10, 28, 28])"
      ]
     },
     "execution_count": 20,
     "metadata": {},
     "output_type": "execute_result"
    }
   ],
   "source": [
    "images.shape"
   ]
  },
  {
   "cell_type": "markdown",
   "id": "75cbbd9d",
   "metadata": {
    "papermill": {
     "duration": 0.008478,
     "end_time": "2023-10-06T05:08:32.834593",
     "exception": false,
     "start_time": "2023-10-06T05:08:32.826115",
     "status": "completed"
    },
    "tags": []
   },
   "source": [
    "# Final Output"
   ]
  },
  {
   "cell_type": "code",
   "execution_count": 21,
   "id": "3fdb40cd",
   "metadata": {
    "execution": {
     "iopub.execute_input": "2023-10-06T05:08:32.853971Z",
     "iopub.status.busy": "2023-10-06T05:08:32.853126Z",
     "iopub.status.idle": "2023-10-06T05:08:33.105774Z",
     "shell.execute_reply": "2023-10-06T05:08:33.104716Z"
    },
    "papermill": {
     "duration": 0.264657,
     "end_time": "2023-10-06T05:08:33.108015",
     "exception": false,
     "start_time": "2023-10-06T05:08:32.843358",
     "status": "completed"
    },
    "tags": []
   },
   "outputs": [
    {
     "data": {
      "text/plain": [
       "<matplotlib.image.AxesImage at 0x7de7002da320>"
      ]
     },
     "execution_count": 21,
     "metadata": {},
     "output_type": "execute_result"
    },
    {
     "data": {
      "image/png": "[encoded data removed]",
      "text/plain": [
       "<Figure size 640x480 with 1 Axes>"
      ]
     },
     "metadata": {},
     "output_type": "display_data"
    }
   ],
   "source": [
    "plt.imshow(images[2])"
   ]
  },
  {
   "cell_type": "code",
   "execution_count": null,
   "id": "0b82ada3",
   "metadata": {
    "papermill": {
     "duration": 0.00833,
     "end_time": "2023-10-06T05:08:33.125477",
     "exception": false,
     "start_time": "2023-10-06T05:08:33.117147",
     "status": "completed"
    },
    "tags": []
   },
   "outputs": [],
   "source": []
  }
 ],
 "metadata": {
  "kernelspec": {
   "display_name": "Python 3",
   "language": "python",
   "name": "python3"
  },
  "language_info": {
   "codemirror_mode": {
    "name": "ipython",
    "version": 3
   },
   "file_extension": ".py",
   "mimetype": "text/x-python",
   "name": "python",
   "nbconvert_exporter": "python",
   "pygments_lexer": "ipython3",
   "version": "3.10.12"
  },
  "papermill": {
   "default_parameters": {},
   "duration": 26.306944,
   "end_time": "2023-10-06T05:08:35.732413",
   "environment_variables": {},
   "exception": null,
   "input_path": "__notebook__.ipynb",
   "output_path": "__notebook__.ipynb",
   "parameters": {},
   "start_time": "2023-10-06T05:08:09.425469",
   "version": "2.4.0"
  }
 },
 "nbformat": 4,
 "nbformat_minor": 5
}
